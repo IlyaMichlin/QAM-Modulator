{
 "cells": [
  {
   "cell_type": "markdown",
   "metadata": {},
   "source": [
    "# QAM Modulator\n",
    "Modulation is an important part of analog communication. Analog communication is needed to transfer information where we cannot send digital signals. That includes air, cables, optic fibers etc.\n",
    "\n",
    "The purpose of a modulator is to convers one or more bits to a symbol.\n",
    "\n",
    "There are many modulation techniques but QAM is probably the most popular. QAM is both an analog and a digital modulation scheme chat combines together PSK and ASK modulations. For more reading refer to Wikipedias \"Quadrature amplitude modulation\" article:\n",
    "https://en.wikipedia.org/wiki/Quadrature_amplitude_modulation\n",
    "\n",
    "My goal was to create a generic QAM modulator. I ended creating a modulator that can:\n",
    "* Receive data in binary and in raw number form\n",
    "* Modulate using binary and Gray code constellation\n",
    "* Modulate any QAM where M=2^2k, k=1,2,3..."
   ]
  },
  {
   "cell_type": "code",
   "execution_count": 1,
   "metadata": {},
   "outputs": [],
   "source": [
    "from numpy import log2, arange, sqrt, flip, concatenate, zeros, array, floor, sqrt, array, bitwise_xor\n",
    "from numpy.random import randint"
   ]
  },
  {
   "cell_type": "markdown",
   "metadata": {},
   "source": [
    "First lets create our constants.\n",
    "* symbol_num: number of QAM symbols to create\n",
    "* M: QAM form"
   ]
  },
  {
   "cell_type": "code",
   "execution_count": 2,
   "metadata": {},
   "outputs": [],
   "source": [
    "symbol_num = 20\n",
    "M = 64\n",
    "\n",
    "sqrt_M = sqrt(M).astype(int)\n",
    "k = log2(M).astype(int)"
   ]
  },
  {
   "cell_type": "markdown",
   "metadata": {},
   "source": [
    "Lets generate some random data.\n",
    "\n",
    "The modulator expects the data to be arranged where I is first followed by Q and each one of them represented in big-endian: https://en.wikipedia.org/wiki/Endianness"
   ]
  },
  {
   "cell_type": "code",
   "execution_count": 3,
   "metadata": {},
   "outputs": [
    {
     "data": {
      "text/plain": [
       "array([1, 1, 0, 1, 1, 1, 0, 0, 1, 0, 1, 0, 0, 1, 1, 0, 1, 0, 1, 1, 1, 1,\n",
       "       1, 0, 0, 1, 1, 0, 0, 1, 0, 1, 0, 0, 0, 1, 1, 1, 0, 0, 0, 1, 1, 0,\n",
       "       1, 1, 1, 1, 0, 1, 0, 0, 1, 1, 0, 0, 1, 0, 0, 1, 1, 0, 0, 1, 1, 1,\n",
       "       0, 1, 1, 0, 0, 1, 0, 1, 1, 1, 1, 0, 1, 0, 0, 0, 1, 1, 1, 1, 1, 1,\n",
       "       0, 1, 1, 1, 0, 1, 1, 0, 1, 0, 1, 0, 1, 0, 1, 0, 1, 1, 0, 0, 0, 1,\n",
       "       1, 0, 0, 1, 0, 0, 0, 1, 1, 1])"
      ]
     },
     "execution_count": 3,
     "metadata": {},
     "output_type": "execute_result"
    }
   ],
   "source": [
    "data_input = randint(2, size=k*symbol_num)\n",
    "data_input"
   ]
  },
  {
   "cell_type": "markdown",
   "metadata": {},
   "source": [
    "The next code will generate a vector that we will use to convert the the binnary constellation to Gray code constellation.\n",
    "\n",
    "Inspiration for this code came from an article by Krishna Sankar: http://www.dsplog.com/2008/06/01/binary-to-gray-code-for-16qam/\n",
    "\n",
    "*Notice the order of the numbers"
   ]
  },
  {
   "cell_type": "code",
   "execution_count": 4,
   "metadata": {},
   "outputs": [
    {
     "data": {
      "text/plain": [
       "array([0, 1, 3, 2, 6, 7, 5, 4], dtype=int32)"
      ]
     },
     "execution_count": 4,
     "metadata": {},
     "output_type": "execute_result"
    }
   ],
   "source": [
    "vect = array(range(sqrt_M))\n",
    "gary_constallation = bitwise_xor(vect, floor(vect/2).astype(int))\n",
    "gary_constallation"
   ]
  },
  {
   "cell_type": "markdown",
   "metadata": {},
   "source": [
    "Next we will create a vector that will us convert the Gray code to actual QAM symbols."
   ]
  },
  {
   "cell_type": "code",
   "execution_count": 5,
   "metadata": {},
   "outputs": [
    {
     "data": {
      "text/plain": [
       "array([-7, -5, -3, -1,  1,  3,  5,  7])"
      ]
     },
     "execution_count": 5,
     "metadata": {},
     "output_type": "execute_result"
    }
   ],
   "source": [
    "vect = arange(1, sqrt(M), 2)\n",
    "symbols = concatenate((flip(-vect, axis=0), vect)).astype(int)\n",
    "symbols"
   ]
  },
  {
   "cell_type": "markdown",
   "metadata": {},
   "source": [
    "Now we reshape the data so that each row represents one QAM symbol"
   ]
  },
  {
   "cell_type": "code",
   "execution_count": 6,
   "metadata": {},
   "outputs": [
    {
     "data": {
      "text/plain": [
       "array([[1, 1, 0, 1, 1, 1],\n",
       "       [0, 0, 1, 0, 1, 0],\n",
       "       [0, 1, 1, 0, 1, 0],\n",
       "       [1, 1, 1, 1, 1, 0],\n",
       "       [0, 1, 1, 0, 0, 1],\n",
       "       [0, 1, 0, 0, 0, 1],\n",
       "       [1, 1, 0, 0, 0, 1],\n",
       "       [1, 0, 1, 1, 1, 1],\n",
       "       [0, 1, 0, 0, 1, 1],\n",
       "       [0, 0, 1, 0, 0, 1],\n",
       "       [1, 0, 0, 1, 1, 1],\n",
       "       [0, 1, 1, 0, 0, 1],\n",
       "       [0, 1, 1, 1, 1, 0],\n",
       "       [1, 0, 0, 0, 1, 1],\n",
       "       [1, 1, 1, 1, 0, 1],\n",
       "       [1, 1, 0, 1, 1, 0],\n",
       "       [1, 0, 1, 0, 1, 0],\n",
       "       [1, 0, 1, 1, 0, 0],\n",
       "       [0, 1, 1, 0, 0, 1],\n",
       "       [0, 0, 0, 1, 1, 1]])"
      ]
     },
     "execution_count": 6,
     "metadata": {},
     "output_type": "execute_result"
    }
   ],
   "source": [
    "data_input = data_input.reshape((-1,k))\n",
    "data_input"
   ]
  },
  {
   "cell_type": "markdown",
   "metadata": {},
   "source": [
    "Finally we will convert the bits to Gray coded QAM symbols"
   ]
  },
  {
   "cell_type": "code",
   "execution_count": 7,
   "metadata": {},
   "outputs": [],
   "source": [
    "I = zeros((data_input.shape[0],))\n",
    "Q = zeros((data_input.shape[0],))\n",
    "for n in range(int(data_input.shape[1] / 2)):\n",
    "    I = I + data_input[:,n] * 2 ** n\n",
    "for n in range(int(data_input.shape[1]/2),int(data_input.shape[1])):\n",
    "    Q = Q + data_input[:,n] * 2 ** (n - int(data_input.shape[1]/2))\n",
    "\n",
    "I = I.astype(int)\n",
    "Q = Q.astype(int)"
   ]
  },
  {
   "cell_type": "code",
   "execution_count": 8,
   "metadata": {},
   "outputs": [
    {
     "data": {
      "text/plain": [
       "array([-3.+1.j,  5.-1.j,  3.-1.j,  1.-3.j,  3.+5.j, -1.+5.j, -3.+5.j,\n",
       "        7.+1.j, -1.+3.j,  5.+5.j, -5.+1.j,  3.+5.j,  3.-3.j, -5.+3.j,\n",
       "        1.+7.j, -3.-3.j,  7.-1.j,  7.-5.j,  3.+5.j, -7.+1.j])"
      ]
     },
     "execution_count": 8,
     "metadata": {},
     "output_type": "execute_result"
    }
   ],
   "source": [
    "I = gary_constallation[I]\n",
    "Q = gary_constallation[Q]\n",
    "I = symbols[I]\n",
    "Q = symbols[Q]\n",
    "\n",
    "S = I + 1j * Q\n",
    "S"
   ]
  },
  {
   "cell_type": "markdown",
   "metadata": {},
   "source": [
    "The QAM.py file was created based on the code above:"
   ]
  },
  {
   "cell_type": "code",
   "execution_count": 9,
   "metadata": {},
   "outputs": [
    {
     "data": {
      "text/plain": [
       "array([-3.+1.j,  5.-1.j,  3.-1.j,  1.-3.j,  3.+5.j, -1.+5.j, -3.+5.j,\n",
       "        7.+1.j, -1.+3.j,  5.+5.j, -5.+1.j,  3.+5.j,  3.-3.j, -5.+3.j,\n",
       "        1.+7.j, -3.-3.j,  7.-1.j,  7.-5.j,  3.+5.j, -7.+1.j])"
      ]
     },
     "execution_count": 9,
     "metadata": {},
     "output_type": "execute_result"
    }
   ],
   "source": [
    "from QAM import modulator\n",
    "\n",
    "Sn = modulator(data_input, M)\n",
    "Sn"
   ]
  },
  {
   "cell_type": "code",
   "execution_count": 10,
   "metadata": {
    "scrolled": false
   },
   "outputs": [
    {
     "data": {
      "text/plain": [
       "array([0.+0.j, 0.+0.j, 0.+0.j, 0.+0.j, 0.+0.j, 0.+0.j, 0.+0.j, 0.+0.j,\n",
       "       0.+0.j, 0.+0.j, 0.+0.j, 0.+0.j, 0.+0.j, 0.+0.j, 0.+0.j, 0.+0.j,\n",
       "       0.+0.j, 0.+0.j, 0.+0.j, 0.+0.j])"
      ]
     },
     "execution_count": 10,
     "metadata": {},
     "output_type": "execute_result"
    }
   ],
   "source": [
    "S-Sn"
   ]
  }
 ],
 "metadata": {
  "kernelspec": {
   "display_name": "Python 3",
   "language": "python",
   "name": "python3"
  },
  "language_info": {
   "codemirror_mode": {
    "name": "ipython",
    "version": 3
   },
   "file_extension": ".py",
   "mimetype": "text/x-python",
   "name": "python",
   "nbconvert_exporter": "python",
   "pygments_lexer": "ipython3",
   "version": "3.6.4"
  }
 },
 "nbformat": 4,
 "nbformat_minor": 2
}
